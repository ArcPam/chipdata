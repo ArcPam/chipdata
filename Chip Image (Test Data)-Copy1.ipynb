{
 "cells": [
  {
   "cell_type": "code",
   "execution_count": 1,
   "id": "civilian-impossible",
   "metadata": {},
   "outputs": [
    {
     "name": "stdout",
     "output_type": "stream",
     "text": [
      "3.8.5\n"
     ]
    }
   ],
   "source": [
    "#To install GDAL without complications Use these commands\n",
    "#conda create --name GDAL\n",
    "#conda activate GDAL\n",
    "#conda install -c conda-forge notebook\n",
    "#python -m notebook install --user --name=GDAL\n",
    "\n",
    "from platform import python_version\n",
    "\n",
    "print(python_version())"
   ]
  },
  {
   "cell_type": "code",
   "execution_count": 2,
   "id": "twenty-ocean",
   "metadata": {},
   "outputs": [],
   "source": [
    "import osgeo"
   ]
  },
  {
   "cell_type": "code",
   "execution_count": 3,
   "id": "urban-bonus",
   "metadata": {},
   "outputs": [],
   "source": [
    "from osgeo import gdal\n",
    "import os"
   ]
  },
  {
   "cell_type": "code",
   "execution_count": 85,
   "id": "accompanied-minneapolis",
   "metadata": {},
   "outputs": [],
   "source": [
    "#in_path = 'G:\\DATA\\IMAGERY\\AFRICA' + \"\\\\\"\n",
    "\n",
    "\n",
    "#input_filename = 'Senegal_building_R1C1.tif'\n",
    "#out_path = 'G:\\DATA\\IMAGERY\\TRAININGDATA\\output_folder2' + \"\\\\\"\n",
    "out_path = r'G:\\DATA\\IMAGERY\\TRAININGDATA\\test_images_outfolder' + '\\\\'\n",
    "in_path = r\"G:\\DATA\\IMAGERY\\TESTDATA\" + \"\\\\\""
   ]
  },
  {
   "cell_type": "code",
   "execution_count": 86,
   "id": "moderate-glossary",
   "metadata": {},
   "outputs": [
    {
     "name": "stdout",
     "output_type": "stream",
     "text": [
      "jordan_R1C1.tif\n",
      "jordan_R1C1\n",
      "Directory  G:\\DATA\\IMAGERY\\TRAININGDATA\\test_images_outfolder\\\\jordan_R1C1  already exists\n",
      "serbia_road_R1C1.tif\n",
      "serbia_road_R1C1\n",
      "Directory  G:\\DATA\\IMAGERY\\TRAININGDATA\\test_images_outfolder\\\\serbia_road_R1C1  already exists\n",
      "SKorea_rail_R1C1.tif\n",
      "SKorea_rail_R1C1\n",
      "Directory  G:\\DATA\\IMAGERY\\TRAININGDATA\\test_images_outfolder\\\\SKorea_rail_R1C1  already exists\n",
      "Uruguay_Park_R1C1.tif\n",
      "Uruguay_Park_R1C1\n",
      "Directory  G:\\DATA\\IMAGERY\\TRAININGDATA\\test_images_outfolder\\\\Uruguay_Park_R1C1  already exists\n"
     ]
    }
   ],
   "source": [
    "\n",
    "for file in os.listdir(in_path):\n",
    "    #for f in os.listdir(in_path + \"\\\\\" + folder):\n",
    "    if file.endswith('.tif'):\n",
    "        #print(raster)\n",
    "        path = in_path + \"\\\\\" + file#older + \"\\\\\" + f\n",
    "        \n",
    "    \n",
    "        \n",
    "        def imgID(path):\n",
    "            #file = path)\n",
    "            fullName = os.path.basename(file)\n",
    "            print(fullName)\n",
    "            imageID = fullName.split(\".tif\")[0]\n",
    "            #chipNo = 0\n",
    "            #chipNo += 1\n",
    "            print(imageID)# + \"_\" + chipNo)\n",
    "\n",
    "            # Create paths for image folder\n",
    "            imageFolder = out_path + \"\\\\\" + imageID\n",
    "            if not os.path.exists(imageFolder):\n",
    "                os.mkdir(imageFolder)\n",
    "                print(\"Directory \" , imageFolder,  \" Created \")\n",
    "            else:    \n",
    "                print(\"Directory \" , imageFolder,  \" already exists\")\n",
    "\n",
    "            # Create paths for images in the folder\n",
    "            #chipFolder = out_path + \"\\\\\" + imageID + \"\\\\\" + chipNo\n",
    "            #if not os.path.exists(chipFolder):\n",
    "            #    os.mkdir(chipFolder)\n",
    "            #    print(\"Directory \" , chipFolder,  \" Created \")\n",
    "            #else:    \n",
    "            #    print(\"Directory \" , chipFolder,  \" already exists\")\n",
    "        imgID(path)"
   ]
  },
  {
   "cell_type": "code",
   "execution_count": 79,
   "id": "mineral-visit",
   "metadata": {},
   "outputs": [
    {
     "name": "stdout",
     "output_type": "stream",
     "text": [
      "jordan_R1C1\n",
      "serbia_road_R1C1\n",
      "SKorea_rail_R1C1\n",
      "Uruguay_Park_R1C1\n"
     ]
    }
   ],
   "source": [
    "for folder in os.listdir(out_path):\n",
    "    print(folder)\n",
    "    \n",
    "\n"
   ]
  },
  {
   "cell_type": "code",
   "execution_count": 87,
   "id": "smaller-discipline",
   "metadata": {},
   "outputs": [
    {
     "name": "stdout",
     "output_type": "stream",
     "text": [
      "jordan_R1C1.tif\n",
      "serbia_road_R1C1.tif\n",
      "SKorea_rail_R1C1.tif\n",
      "Uruguay_Park_R1C1.tif\n"
     ]
    }
   ],
   "source": [
    "for raster in os.listdir(in_path):\n",
    "    if raster.endswith('.tif'):\n",
    "        print(raster)"
   ]
  },
  {
   "cell_type": "code",
   "execution_count": null,
   "id": "enormous-municipality",
   "metadata": {},
   "outputs": [],
   "source": [
    "\n",
    "#imageIDNumber = \n",
    "#chipNumber = \n",
    "#imageIDchipNumber = imageIDNumber + \"-\" + chipNumber\n",
    "#out = r\"testData\\imageIDNumber\\chipNumber\\imageID-chipNumber.tif\"\n",
    "#out_path = r\"testData\" + \"\\\\\" + str(imageIDNumber) + \"\\\\\" + str(chipNumber) + \"\\\\\" + str(imageIDchipNumber) + \".tif\""
   ]
  },
  {
   "cell_type": "code",
   "execution_count": 132,
   "id": "downtown-delight",
   "metadata": {},
   "outputs": [],
   "source": [
    "n1=50\n",
    "n2=50"
   ]
  },
  {
   "cell_type": "code",
   "execution_count": 133,
   "id": "substantial-allowance",
   "metadata": {},
   "outputs": [],
   "source": [
    "def slice(n1,n2,input_filename, out_path):\n",
    "\n",
    "    output_filename = 'tile_'\n",
    "\n",
    "    tile_size_x = 100\n",
    "    tile_size_y = 100\n",
    "\n",
    "    #band = dataset.GetRasterBand(1)\n",
    "    #print(\"Band Type={}\".format(gdal.GetDataTypeName(band.DataType)))\n",
    "\n",
    "    ds = gdal.Open(in_path + input_filename)\n",
    "    band = ds.GetRasterBand(1)\n",
    "    xsize = band.XSize\n",
    "    ysize = band.YSize\n",
    "\n",
    "    for i in range(n1, xsize, tile_size_x):\n",
    "        for j in range(n2, ysize, tile_size_y):\n",
    "            com_string = \"gdal_translate -of GTIFF -srcwin \" + str(i)+ \", \" + str(j) + \", \" + str(tile_size_x) + \", \" + str(tile_size_y) + \" \" + str(in_path) + str(input_filename) + \" \" + str(out_path + '\\\\' + input_filename.split(\".tif\")[0]) + str(output_filename) + str(i) + \"_\" + str(j) + \".tif\"\n",
    "            print(com_string)\n",
    "            os.system(com_string)"
   ]
  },
  {
   "cell_type": "code",
   "execution_count": 134,
   "id": "hollow-recovery",
   "metadata": {},
   "outputs": [
    {
     "name": "stdout",
     "output_type": "stream",
     "text": [
      "103001005C50D100\n",
      "103001006C15FB00\n",
      "jordan_R1C1.tif\n",
      "gdal_translate -of GTIFF -srcwin 0, 0, 100, 100 G:\\DATA\\IMAGERY\\TESTDATA\\jordan_R1C1.tif G:\\DATA\\IMAGERY\\TRAININGDATA\\test_images_outfolder\\jordan_R1C1\\jordan_R1C1tile_0_0.tif\n",
      "gdal_translate -of GTIFF -srcwin 0, 100, 100, 100 G:\\DATA\\IMAGERY\\TESTDATA\\jordan_R1C1.tif G:\\DATA\\IMAGERY\\TRAININGDATA\\test_images_outfolder\\jordan_R1C1\\jordan_R1C1tile_0_100.tif\n",
      "gdal_translate -of GTIFF -srcwin 0, 200, 100, 100 G:\\DATA\\IMAGERY\\TESTDATA\\jordan_R1C1.tif G:\\DATA\\IMAGERY\\TRAININGDATA\\test_images_outfolder\\jordan_R1C1\\jordan_R1C1tile_0_200.tif\n",
      "gdal_translate -of GTIFF -srcwin 0, 300, 100, 100 G:\\DATA\\IMAGERY\\TESTDATA\\jordan_R1C1.tif G:\\DATA\\IMAGERY\\TRAININGDATA\\test_images_outfolder\\jordan_R1C1\\jordan_R1C1tile_0_300.tif\n",
      "gdal_translate -of GTIFF -srcwin 0, 400, 100, 100 G:\\DATA\\IMAGERY\\TESTDATA\\jordan_R1C1.tif G:\\DATA\\IMAGERY\\TRAININGDATA\\test_images_outfolder\\jordan_R1C1\\jordan_R1C1tile_0_400.tif\n",
      "gdal_translate -of GTIFF -srcwin 0, 500, 100, 100 G:\\DATA\\IMAGERY\\TESTDATA\\jordan_R1C1.tif G:\\DATA\\IMAGERY\\TRAININGDATA\\test_images_outfolder\\jordan_R1C1\\jordan_R1C1tile_0_500.tif\n",
      "gdal_translate -of GTIFF -srcwin 0, 600, 100, 100 G:\\DATA\\IMAGERY\\TESTDATA\\jordan_R1C1.tif G:\\DATA\\IMAGERY\\TRAININGDATA\\test_images_outfolder\\jordan_R1C1\\jordan_R1C1tile_0_600.tif\n",
      "gdal_translate -of GTIFF -srcwin 100, 0, 100, 100 G:\\DATA\\IMAGERY\\TESTDATA\\jordan_R1C1.tif G:\\DATA\\IMAGERY\\TRAININGDATA\\test_images_outfolder\\jordan_R1C1\\jordan_R1C1tile_100_0.tif\n",
      "gdal_translate -of GTIFF -srcwin 100, 100, 100, 100 G:\\DATA\\IMAGERY\\TESTDATA\\jordan_R1C1.tif G:\\DATA\\IMAGERY\\TRAININGDATA\\test_images_outfolder\\jordan_R1C1\\jordan_R1C1tile_100_100.tif\n",
      "gdal_translate -of GTIFF -srcwin 100, 200, 100, 100 G:\\DATA\\IMAGERY\\TESTDATA\\jordan_R1C1.tif G:\\DATA\\IMAGERY\\TRAININGDATA\\test_images_outfolder\\jordan_R1C1\\jordan_R1C1tile_100_200.tif\n",
      "gdal_translate -of GTIFF -srcwin 100, 300, 100, 100 G:\\DATA\\IMAGERY\\TESTDATA\\jordan_R1C1.tif G:\\DATA\\IMAGERY\\TRAININGDATA\\test_images_outfolder\\jordan_R1C1\\jordan_R1C1tile_100_300.tif\n",
      "gdal_translate -of GTIFF -srcwin 100, 400, 100, 100 G:\\DATA\\IMAGERY\\TESTDATA\\jordan_R1C1.tif G:\\DATA\\IMAGERY\\TRAININGDATA\\test_images_outfolder\\jordan_R1C1\\jordan_R1C1tile_100_400.tif\n",
      "gdal_translate -of GTIFF -srcwin 100, 500, 100, 100 G:\\DATA\\IMAGERY\\TESTDATA\\jordan_R1C1.tif G:\\DATA\\IMAGERY\\TRAININGDATA\\test_images_outfolder\\jordan_R1C1\\jordan_R1C1tile_100_500.tif\n",
      "gdal_translate -of GTIFF -srcwin 100, 600, 100, 100 G:\\DATA\\IMAGERY\\TESTDATA\\jordan_R1C1.tif G:\\DATA\\IMAGERY\\TRAININGDATA\\test_images_outfolder\\jordan_R1C1\\jordan_R1C1tile_100_600.tif\n",
      "gdal_translate -of GTIFF -srcwin 200, 0, 100, 100 G:\\DATA\\IMAGERY\\TESTDATA\\jordan_R1C1.tif G:\\DATA\\IMAGERY\\TRAININGDATA\\test_images_outfolder\\jordan_R1C1\\jordan_R1C1tile_200_0.tif\n",
      "gdal_translate -of GTIFF -srcwin 200, 100, 100, 100 G:\\DATA\\IMAGERY\\TESTDATA\\jordan_R1C1.tif G:\\DATA\\IMAGERY\\TRAININGDATA\\test_images_outfolder\\jordan_R1C1\\jordan_R1C1tile_200_100.tif\n",
      "gdal_translate -of GTIFF -srcwin 200, 200, 100, 100 G:\\DATA\\IMAGERY\\TESTDATA\\jordan_R1C1.tif G:\\DATA\\IMAGERY\\TRAININGDATA\\test_images_outfolder\\jordan_R1C1\\jordan_R1C1tile_200_200.tif\n",
      "gdal_translate -of GTIFF -srcwin 200, 300, 100, 100 G:\\DATA\\IMAGERY\\TESTDATA\\jordan_R1C1.tif G:\\DATA\\IMAGERY\\TRAININGDATA\\test_images_outfolder\\jordan_R1C1\\jordan_R1C1tile_200_300.tif\n",
      "gdal_translate -of GTIFF -srcwin 200, 400, 100, 100 G:\\DATA\\IMAGERY\\TESTDATA\\jordan_R1C1.tif G:\\DATA\\IMAGERY\\TRAININGDATA\\test_images_outfolder\\jordan_R1C1\\jordan_R1C1tile_200_400.tif\n",
      "gdal_translate -of GTIFF -srcwin 200, 500, 100, 100 G:\\DATA\\IMAGERY\\TESTDATA\\jordan_R1C1.tif G:\\DATA\\IMAGERY\\TRAININGDATA\\test_images_outfolder\\jordan_R1C1\\jordan_R1C1tile_200_500.tif\n",
      "gdal_translate -of GTIFF -srcwin 200, 600, 100, 100 G:\\DATA\\IMAGERY\\TESTDATA\\jordan_R1C1.tif G:\\DATA\\IMAGERY\\TRAININGDATA\\test_images_outfolder\\jordan_R1C1\\jordan_R1C1tile_200_600.tif\n",
      "gdal_translate -of GTIFF -srcwin 300, 0, 100, 100 G:\\DATA\\IMAGERY\\TESTDATA\\jordan_R1C1.tif G:\\DATA\\IMAGERY\\TRAININGDATA\\test_images_outfolder\\jordan_R1C1\\jordan_R1C1tile_300_0.tif\n",
      "gdal_translate -of GTIFF -srcwin 300, 100, 100, 100 G:\\DATA\\IMAGERY\\TESTDATA\\jordan_R1C1.tif G:\\DATA\\IMAGERY\\TRAININGDATA\\test_images_outfolder\\jordan_R1C1\\jordan_R1C1tile_300_100.tif\n"
     ]
    },
    {
     "ename": "KeyboardInterrupt",
     "evalue": "",
     "output_type": "error",
     "traceback": [
      "\u001b[1;31m---------------------------------------------------------------------------\u001b[0m",
      "\u001b[1;31mKeyboardInterrupt\u001b[0m                         Traceback (most recent call last)",
      "\u001b[1;32m<ipython-input-134-3c2efcbc16d9>\u001b[0m in \u001b[0;36m<module>\u001b[1;34m\u001b[0m\n\u001b[0;32m      4\u001b[0m     \u001b[0mout_path2\u001b[0m \u001b[1;33m=\u001b[0m \u001b[0mout_path\u001b[0m \u001b[1;33m+\u001b[0m \u001b[0mfile\u001b[0m\u001b[1;33m.\u001b[0m\u001b[0msplit\u001b[0m\u001b[1;33m(\u001b[0m\u001b[1;34m\".tif\"\u001b[0m\u001b[1;33m)\u001b[0m\u001b[1;33m[\u001b[0m\u001b[1;36m0\u001b[0m\u001b[1;33m]\u001b[0m\u001b[1;33m\u001b[0m\u001b[1;33m\u001b[0m\u001b[0m\n\u001b[0;32m      5\u001b[0m     \u001b[1;32mif\u001b[0m \u001b[0mfile\u001b[0m\u001b[1;33m.\u001b[0m\u001b[0mendswith\u001b[0m\u001b[1;33m(\u001b[0m\u001b[1;34m'.tif'\u001b[0m\u001b[1;33m)\u001b[0m\u001b[1;33m:\u001b[0m\u001b[1;33m\u001b[0m\u001b[1;33m\u001b[0m\u001b[0m\n\u001b[1;32m----> 6\u001b[1;33m         \u001b[0mslice\u001b[0m\u001b[1;33m(\u001b[0m\u001b[1;36m0\u001b[0m\u001b[1;33m,\u001b[0m \u001b[1;36m0\u001b[0m\u001b[1;33m,\u001b[0m \u001b[0mfile\u001b[0m\u001b[1;33m,\u001b[0m \u001b[0mout_path2\u001b[0m\u001b[1;33m)\u001b[0m\u001b[1;33m\u001b[0m\u001b[1;33m\u001b[0m\u001b[0m\n\u001b[0m\u001b[0;32m      7\u001b[0m         \u001b[0mslice\u001b[0m\u001b[1;33m(\u001b[0m\u001b[0mn1\u001b[0m\u001b[1;33m,\u001b[0m \u001b[0mn2\u001b[0m\u001b[1;33m,\u001b[0m \u001b[0mfile\u001b[0m\u001b[1;33m,\u001b[0m \u001b[0mout_path2\u001b[0m\u001b[1;33m)\u001b[0m\u001b[1;33m\u001b[0m\u001b[1;33m\u001b[0m\u001b[0m\n\u001b[0;32m      8\u001b[0m         \u001b[1;31m#path = in_path + \"\\\\\" + file#older + \"\\\\\" + f\u001b[0m\u001b[1;33m\u001b[0m\u001b[1;33m\u001b[0m\u001b[1;33m\u001b[0m\u001b[0m\n",
      "\u001b[1;32m<ipython-input-133-d8825afbde56>\u001b[0m in \u001b[0;36mslice\u001b[1;34m(n1, n2, input_filename, out_path)\u001b[0m\n\u001b[0;32m     18\u001b[0m             \u001b[0mcom_string\u001b[0m \u001b[1;33m=\u001b[0m \u001b[1;34m\"gdal_translate -of GTIFF -srcwin \"\u001b[0m \u001b[1;33m+\u001b[0m \u001b[0mstr\u001b[0m\u001b[1;33m(\u001b[0m\u001b[0mi\u001b[0m\u001b[1;33m)\u001b[0m\u001b[1;33m+\u001b[0m \u001b[1;34m\", \"\u001b[0m \u001b[1;33m+\u001b[0m \u001b[0mstr\u001b[0m\u001b[1;33m(\u001b[0m\u001b[0mj\u001b[0m\u001b[1;33m)\u001b[0m \u001b[1;33m+\u001b[0m \u001b[1;34m\", \"\u001b[0m \u001b[1;33m+\u001b[0m \u001b[0mstr\u001b[0m\u001b[1;33m(\u001b[0m\u001b[0mtile_size_x\u001b[0m\u001b[1;33m)\u001b[0m \u001b[1;33m+\u001b[0m \u001b[1;34m\", \"\u001b[0m \u001b[1;33m+\u001b[0m \u001b[0mstr\u001b[0m\u001b[1;33m(\u001b[0m\u001b[0mtile_size_y\u001b[0m\u001b[1;33m)\u001b[0m \u001b[1;33m+\u001b[0m \u001b[1;34m\" \"\u001b[0m \u001b[1;33m+\u001b[0m \u001b[0mstr\u001b[0m\u001b[1;33m(\u001b[0m\u001b[0min_path\u001b[0m\u001b[1;33m)\u001b[0m \u001b[1;33m+\u001b[0m \u001b[0mstr\u001b[0m\u001b[1;33m(\u001b[0m\u001b[0minput_filename\u001b[0m\u001b[1;33m)\u001b[0m \u001b[1;33m+\u001b[0m \u001b[1;34m\" \"\u001b[0m \u001b[1;33m+\u001b[0m \u001b[0mstr\u001b[0m\u001b[1;33m(\u001b[0m\u001b[0mout_path\u001b[0m \u001b[1;33m+\u001b[0m \u001b[1;34m'\\\\'\u001b[0m \u001b[1;33m+\u001b[0m \u001b[0minput_filename\u001b[0m\u001b[1;33m.\u001b[0m\u001b[0msplit\u001b[0m\u001b[1;33m(\u001b[0m\u001b[1;34m\".tif\"\u001b[0m\u001b[1;33m)\u001b[0m\u001b[1;33m[\u001b[0m\u001b[1;36m0\u001b[0m\u001b[1;33m]\u001b[0m\u001b[1;33m)\u001b[0m \u001b[1;33m+\u001b[0m \u001b[0mstr\u001b[0m\u001b[1;33m(\u001b[0m\u001b[0moutput_filename\u001b[0m\u001b[1;33m)\u001b[0m \u001b[1;33m+\u001b[0m \u001b[0mstr\u001b[0m\u001b[1;33m(\u001b[0m\u001b[0mi\u001b[0m\u001b[1;33m)\u001b[0m \u001b[1;33m+\u001b[0m \u001b[1;34m\"_\"\u001b[0m \u001b[1;33m+\u001b[0m \u001b[0mstr\u001b[0m\u001b[1;33m(\u001b[0m\u001b[0mj\u001b[0m\u001b[1;33m)\u001b[0m \u001b[1;33m+\u001b[0m \u001b[1;34m\".tif\"\u001b[0m\u001b[1;33m\u001b[0m\u001b[1;33m\u001b[0m\u001b[0m\n\u001b[0;32m     19\u001b[0m             \u001b[0mprint\u001b[0m\u001b[1;33m(\u001b[0m\u001b[0mcom_string\u001b[0m\u001b[1;33m)\u001b[0m\u001b[1;33m\u001b[0m\u001b[1;33m\u001b[0m\u001b[0m\n\u001b[1;32m---> 20\u001b[1;33m             \u001b[0mos\u001b[0m\u001b[1;33m.\u001b[0m\u001b[0msystem\u001b[0m\u001b[1;33m(\u001b[0m\u001b[0mcom_string\u001b[0m\u001b[1;33m)\u001b[0m\u001b[1;33m\u001b[0m\u001b[1;33m\u001b[0m\u001b[0m\n\u001b[0m",
      "\u001b[1;31mKeyboardInterrupt\u001b[0m: "
     ]
    }
   ],
   "source": [
    "for file in os.listdir(in_path):\n",
    "    #for f in os.listdir(in_path + \"\\\\\" + folder):\n",
    "    print(file)\n",
    "    out_path2 = out_path + file.split(\".tif\")[0]\n",
    "    if file.endswith('.tif'):\n",
    "        slice(0, 0, file, out_path2)\n",
    "        slice(n1, n2, file, out_path2)\n",
    "        #path = in_path + \"\\\\\" + file#older + \"\\\\\" + f"
   ]
  },
  {
   "cell_type": "code",
   "execution_count": 128,
   "id": "pretty-bridal",
   "metadata": {},
   "outputs": [
    {
     "name": "stdout",
     "output_type": "stream",
     "text": [
      "jordan_R1C1\n",
      "serbia_road_R1C1\n",
      "SKorea_rail_R1C1\n",
      "Uruguay_Park_R1C1\n"
     ]
    }
   ],
   "source": [
    "#for file in os.listdir(in_path):\n",
    "    #for f in os.listdir(in_path + \"\\\\\" + folder):\n",
    "    #print(file)\n",
    "n = 0    \n",
    "def count(n):\n",
    "    while n > 0:\n",
    "        #print(n)\n",
    "        n = n+1\n",
    "    #print \"Blastoff!\"\n",
    "    \n",
    "for folders in os.listdir(out_path):\n",
    "    print(folders)\n",
    "    for file in os.listdir(out_path + folders):\n",
    "        #for file in os.listdir(folders):\n",
    "        n += 1\n",
    "        newfile = folders + \"_\" + str(n)\n",
    "        os.rename(out_path + folders + \"\\\\\" + file, out_path + folders + \"\\\\\" + newfile)\n",
    "#for file_name in files:\n",
    "#        print(file_name)\n",
    "#    if file.endswith('.tif'):\n",
    "#print(out_path + file.split(\".tif\")[0])"
   ]
  },
  {
   "cell_type": "code",
   "execution_count": 104,
   "id": "alone-socket",
   "metadata": {},
   "outputs": [],
   "source": [
    "import os\n",
    "import shutil\n",
    "\n",
    "dir1 = r\"C:\\Users\\NASAP\\Documents\\test_chip\""
   ]
  },
  {
   "cell_type": "code",
   "execution_count": 108,
   "id": "super-ethnic",
   "metadata": {},
   "outputs": [
    {
     "name": "stdout",
     "output_type": "stream",
     "text": [
      "5\n",
      "---\n",
      "C:\\Users\\NASAP\\Documents\\test_chip\\china_build2_R1C1\\china_build2_R1C1_60004\n",
      "china_build2_R1C1_0\n",
      "C:\\Users\\NASAP\\Documents\\test_chip\\china_build2_R1C1\\china_build2_R1C1_60005\n",
      "china_build2_R1C1_1\n",
      "C:\\Users\\NASAP\\Documents\\test_chip\\china_build2_R1C1\\china_build2_R1C1_60006\n",
      "china_build2_R1C1_2\n",
      "C:\\Users\\NASAP\\Documents\\test_chip\\china_build2_R1C1\\china_build2_R1C1_60007\n",
      "china_build2_R1C1_3\n",
      "C:\\Users\\NASAP\\Documents\\test_chip\\china_build2_R1C1\\china_build2_R1C1_60008\n",
      "china_build2_R1C1_4\n",
      "5\n",
      "---\n",
      "C:\\Users\\NASAP\\Documents\\test_chip\\china_build3_R1C1\\china_build3_R1C1_60193\n",
      "china_build3_R1C1_0\n",
      "C:\\Users\\NASAP\\Documents\\test_chip\\china_build3_R1C1\\china_build3_R1C1_60194\n",
      "china_build3_R1C1_1\n",
      "C:\\Users\\NASAP\\Documents\\test_chip\\china_build3_R1C1\\china_build3_R1C1_60195\n",
      "china_build3_R1C1_2\n",
      "C:\\Users\\NASAP\\Documents\\test_chip\\china_build3_R1C1\\china_build3_R1C1_60196\n",
      "china_build3_R1C1_3\n",
      "C:\\Users\\NASAP\\Documents\\test_chip\\china_build3_R1C1\\china_build3_R1C1_60197\n",
      "china_build3_R1C1_4\n",
      "5\n",
      "---\n",
      "C:\\Users\\NASAP\\Documents\\test_chip\\china_build_R1C1\\china_build_R1C1_63919\n",
      "china_build_R1C1_0\n",
      "C:\\Users\\NASAP\\Documents\\test_chip\\china_build_R1C1\\china_build_R1C1_63920\n",
      "china_build_R1C1_1\n",
      "C:\\Users\\NASAP\\Documents\\test_chip\\china_build_R1C1\\china_build_R1C1_63921\n",
      "china_build_R1C1_2\n",
      "C:\\Users\\NASAP\\Documents\\test_chip\\china_build_R1C1\\china_build_R1C1_63922\n",
      "china_build_R1C1_3\n",
      "C:\\Users\\NASAP\\Documents\\test_chip\\china_build_R1C1\\china_build_R1C1_63923\n",
      "china_build_R1C1_4\n"
     ]
    }
   ],
   "source": [
    "\n",
    "\n",
    "for folder in os.listdir(dir1):\n",
    "    # get all but the last 8 characters to remove\n",
    "    # the index number and extension\n",
    "    dir_path = dir1 + \"\\\\\" + folder\n",
    "    #print(dir_path)\n",
    "    # check if directory exists or not yet\n",
    "    #if not os.path.exists(dir_path):\n",
    "    #    os.makedirs(dir_path)\n",
    "    l = os.listdir(dir1 + \"\\\\\" + folder)\n",
    "    #for file in os.listdir(dir + \"\\\\\" + folder):\n",
    "        # + \"\\\\\" + file)\n",
    "    number_files = len(l)\n",
    "    print(number_files)\n",
    "    print(\"---\")\n",
    "    for index,f in enumerate(l):\n",
    "        #print(\"_\".join(f.split(\"_\")[:-1]))\n",
    "        file =  dir1 + \"\\\\\" + folder + \"\\\\\" + f\n",
    "        print(file)\n",
    "        new_name = \"_\".join(f.split(\"_\")[:-1]) + \"_\" + str(index)\n",
    "        print(new_name)\n",
    "        dest = dir1 + \"\\\\\" + folder + \"\\\\\" + str(index)\n",
    "        #print(file_path2)\n",
    "\n",
    "           \n",
    "    \n",
    "\n",
    "        if not os.path.exists(dest):\n",
    "            os.makedirs(dest)\n",
    "        #file_path = dir + file\n",
    "        #print(f'file_path: {file_path}')\n",
    "        \n",
    "        # move files into created directory\n",
    "        shutil.move(file, os.path.join(dest, new_name + \".tif\"))"
   ]
  },
  {
   "cell_type": "code",
   "execution_count": 24,
   "id": "unexpected-surprise",
   "metadata": {},
   "outputs": [
    {
     "name": "stdout",
     "output_type": "stream",
     "text": [
      "3\n"
     ]
    }
   ],
   "source": [
    "list = os.listdir(dir) # dir is your directory path\n",
    "number_files = len(list)\n",
    "print(number_files)"
   ]
  },
  {
   "cell_type": "code",
   "execution_count": null,
   "id": "affiliated-diary",
   "metadata": {},
   "outputs": [],
   "source": []
  }
 ],
 "metadata": {
  "kernelspec": {
   "display_name": "Python 3",
   "language": "python",
   "name": "python3"
  },
  "language_info": {
   "codemirror_mode": {
    "name": "ipython",
    "version": 3
   },
   "file_extension": ".py",
   "mimetype": "text/x-python",
   "name": "python",
   "nbconvert_exporter": "python",
   "pygments_lexer": "ipython3",
   "version": "3.8.5"
  }
 },
 "nbformat": 4,
 "nbformat_minor": 5
}
